{
  "cells": [
    {
      "cell_type": "markdown",
      "metadata": {
        "id": "view-in-github",
        "colab_type": "text"
      },
      "source": [
        "<a href=\"https://colab.research.google.com/github/Guigo1008/btc-price-prediction/blob/main/predicting-btc-ltsm.ipynb\" target=\"_parent\"><img src=\"https://colab.research.google.com/assets/colab-badge.svg\" alt=\"Open In Colab\"/></a>"
      ]
    },
    {
      "cell_type": "markdown",
      "id": "acaefdb5",
      "metadata": {
        "id": "acaefdb5"
      },
      "source": [
        "# Let's predict if the prices of Bitcoin will Rise or Fall"
      ]
    },
    {
      "cell_type": "markdown",
      "id": "fbbeef61",
      "metadata": {
        "id": "fbbeef61"
      },
      "source": [
        "## Importing the libraries"
      ]
    },
    {
      "cell_type": "code",
      "execution_count": null,
      "id": "aaf52110",
      "metadata": {
        "id": "aaf52110"
      },
      "outputs": [],
      "source": [
        "import numpy as np\n",
        "import pandas as pd\n",
        "import matplotlib.pyplot as plt\n",
        "from matplotlib.dates import MonthLocator, DateFormatter\n",
        "from math import sqrt, ceil\n",
        "from datetime import datetime as dt, timedelta\n",
        "\n",
        "import tensorflow as tf\n",
        "from sklearn.metrics import mean_squared_error\n",
        "from sklearn.preprocessing import MinMaxScaler\n",
        "from keras.models import Sequential\n",
        "from keras.layers import Dense, LSTM, Dropout\n",
        "import keras_tuner as kt\n",
        "\n",
        "import pandas_ta as ta\n",
        "from binance import Client\n",
        "\n",
        "import csv\n",
        "\n",
        "%matplotlib inline"
      ]
    },
    {
      "cell_type": "markdown",
      "id": "ef2573ec",
      "metadata": {
        "id": "ef2573ec"
      },
      "source": [
        "## If you have GPU..."
      ]
    },
    {
      "cell_type": "code",
      "execution_count": null,
      "id": "14c977e8",
      "metadata": {
        "id": "14c977e8",
        "outputId": "f0bca17f-c697-4461-f2ea-93a0d46472e0"
      },
      "outputs": [
        {
          "name": "stdout",
          "output_type": "stream",
          "text": [
            "[]\n",
            "Hello World\n"
          ]
        }
      ],
      "source": [
        "print(tf.config.list_physical_devices('GPU'))\n",
        "with tf.device('/device:GPU:0'): # All comands indented inside the with will be executed with GPU\n",
        "    print(\"Hello World\") # If you don't have GPU, it will be executed in your CPU."
      ]
    },
    {
      "cell_type": "markdown",
      "id": "f046e388",
      "metadata": {
        "id": "f046e388"
      },
      "source": [
        "## Creating the .csv from Binance"
      ]
    },
    {
      "cell_type": "code",
      "execution_count": null,
      "id": "73645a49",
      "metadata": {
        "id": "73645a49"
      },
      "outputs": [],
      "source": [
        "client = Client(None, None)"
      ]
    },
    {
      "cell_type": "code",
      "execution_count": null,
      "id": "a0fbba66",
      "metadata": {
        "id": "a0fbba66"
      },
      "outputs": [],
      "source": [
        "# defining the function that fetch the historical data of the wanted coin\n",
        "def getdata(symbol, period, start, end):\n",
        "    \"\"\"\n",
        "    This function gives us the historical candle data of the desired coin\n",
        "    :param symbol: coin name that you want to get data\n",
        "    :param period: time period of candles\n",
        "    :param start: starting date of candles data\n",
        "    :param end: end date of candles data\n",
        "    :return: candles data\n",
        "    \"\"\"\n",
        "    candles = client.get_historical_klines(symbol, period, start, end)\n",
        "    return candles\n",
        "\n",
        "# defining the function that make csv file of the historical data of the wanted coin\n",
        "def make_csv(symbol, candles):\n",
        "    \"\"\"\n",
        "    This function makes csv file of desired coin with defined properties\n",
        "    :param symbol: coin name that you want to make csv file\n",
        "    :param candles: historical data of the desired coin\n",
        "    :return: historical data in csv file\n",
        "    \"\"\"\n",
        "    csvfile = open(symbol + \".csv\", \"a\", newline=\"\")\n",
        "    cursor = csv.writer(csvfile)\n",
        "    for i in candles:\n",
        "        cursor.writerow(i)\n",
        "    csvfile.close()\n",
        "\n",
        "    # defining the function that make csv files of the historical data of the wanted multiple coin\n",
        "def multiple_csv(symbols, interval, start, end):\n",
        "    \"\"\"\n",
        "    This function makes csv file for each coin in symbols parameter with defined properties\n",
        "    :param symbols: list of multiple coin names that you want to make csv file\n",
        "    :param interval: time period of candles (default: client.KLINE_INTERVAL_1DAY you can change the interval)\n",
        "    :param start: starting date of candles data\n",
        "    :param end: end date of candles data\n",
        "    :return: historical data of multiple coin in csv files\n",
        "    \"\"\"\n",
        "    for i in symbols:\n",
        "        make_csv(i, getdata(i, interval, str(start), str(end)))\n",
        "        print(i, \"csv file is ready.\")\n",
        "\n",
        "# defining function the that turn the timestamp to the date\n",
        "def calculate_time(timestamp):\n",
        "    \"\"\"\n",
        "    This function turns the timestamp to the date\n",
        "    :param timestamp: given timestamp\n",
        "    :return: date according to given timestamp\n",
        "    \"\"\"\n",
        "    return dt.fromtimestamp(timestamp/1000)\n",
        "\n",
        "def obtains_date_today():\n",
        "    \"\"\"\n",
        "    This function fetches today's datetime.\n",
        "    This way, we can keep our dataset up-to-date.\n",
        "    Returns:\n",
        "        Today's datetime, formatted.\n",
        "    \"\"\"\n",
        "    current_date = dt.now()\n",
        "    formatted_current_date = current_date.strftime(\"%d %B %Y\")\n",
        "    return formatted_current_date\n",
        "\n",
        "def create_sequences(data, input_steps, output_steps):\n",
        "    \"\"\"\n",
        "    This function generates sequences that define\n",
        "    the number of inputs and outputs our model will\n",
        "    predict. For instance, you can request the model\n",
        "    to predict the next three days based on the input\n",
        "    data from the last 60 days.\n",
        "    Returns:\n",
        "        Array of X and y, which are ready for splitting.\n",
        "    \"\"\"\n",
        "    X, y = [], []\n",
        "    for i in range(len(data) - input_steps - output_steps + 1):\n",
        "        X.append(data[i:i + input_steps])\n",
        "        y.append(data[i + input_steps:i + input_steps + output_steps])\n",
        "    return np.array(X), np.array(y)\n",
        "\n",
        "def prepare_data(scaled_data, test_rate, data):\n",
        "    \"\"\"\n",
        "    This function prepairs our data for the training,\n",
        "\n",
        "    Returns:\n",
        "        Array of X and y, which are ready for training.\n",
        "    \"\"\"\n",
        "    train_len = int(len(scaled_data) * (1 - test_rate))\n",
        "\n",
        "    X_train = np.array([scaled_data[i - 60:i, 0] for i in range(60, train_len)])\n",
        "    y_train = np.array(data.iloc[60:train_len, :])\n",
        "\n",
        "    X_train = X_train.reshape((X_train.shape[0], X_train.shape[1], 1))\n",
        "\n",
        "    test_data = scaled_data[train_len - 60:, :]\n",
        "    X_test = np.array([test_data[i - 60:i, 0] for i in range(60, len(test_data))])\n",
        "    y_test = np.array(data.iloc[train_len:, :])\n",
        "\n",
        "    return X_train, y_train, X_test, y_test\n"
      ]
    },
    {
      "cell_type": "code",
      "execution_count": null,
      "id": "9ac6006e",
      "metadata": {
        "id": "9ac6006e",
        "outputId": "adb73ecd-f52c-4181-aa66-c2e6924620c9"
      },
      "outputs": [
        {
          "name": "stdout",
          "output_type": "stream",
          "text": [
            "BTCUSDT csv file is ready.\n"
          ]
        }
      ],
      "source": [
        "today = obtains_date_today()\n",
        "# get Bitcoin historical data and make csv\n",
        "multiple_csv([\"BTCUSDT\"], client.KLINE_INTERVAL_1DAY, \"8 November 2010\", today)\n",
        "headers = [\"Open Time\", \"Open\", \"High\", \"Low\", \"Close\", \"Volume\", \"Close Time\", \"QAV\", \"NAT\", \"TBBAV\", \"TBQAV\", \"Ignore\"]\n",
        "data = pd.read_csv(\"BTCUSDT.csv\", names=headers)\n",
        "data[\"Open Time\"] = data[\"Open Time\"].apply(calculate_time)\n",
        "data[\"Close Time\"] = data[\"Close Time\"].apply(calculate_time)"
      ]
    },
    {
      "cell_type": "code",
      "execution_count": null,
      "id": "b68083e7",
      "metadata": {
        "id": "b68083e7",
        "outputId": "61ff8302-772d-408a-8380-cb2a2a68b00f"
      },
      "outputs": [
        {
          "data": {
            "text/html": [
              "<div>\n",
              "<style scoped>\n",
              "    .dataframe tbody tr th:only-of-type {\n",
              "        vertical-align: middle;\n",
              "    }\n",
              "\n",
              "    .dataframe tbody tr th {\n",
              "        vertical-align: top;\n",
              "    }\n",
              "\n",
              "    .dataframe thead th {\n",
              "        text-align: right;\n",
              "    }\n",
              "</style>\n",
              "<table border=\"1\" class=\"dataframe\">\n",
              "  <thead>\n",
              "    <tr style=\"text-align: right;\">\n",
              "      <th></th>\n",
              "      <th>Open Time</th>\n",
              "      <th>Open</th>\n",
              "      <th>High</th>\n",
              "      <th>Low</th>\n",
              "      <th>Close</th>\n",
              "      <th>Volume</th>\n",
              "      <th>Close Time</th>\n",
              "      <th>QAV</th>\n",
              "      <th>NAT</th>\n",
              "      <th>TBBAV</th>\n",
              "      <th>TBQAV</th>\n",
              "      <th>Ignore</th>\n",
              "    </tr>\n",
              "  </thead>\n",
              "  <tbody>\n",
              "    <tr>\n",
              "      <th>17717</th>\n",
              "      <td>2023-09-05 21:00:00</td>\n",
              "      <td>25792.11</td>\n",
              "      <td>26040.00</td>\n",
              "      <td>25372.51</td>\n",
              "      <td>25759.95</td>\n",
              "      <td>27262.52386</td>\n",
              "      <td>2023-09-06 20:59:59.999</td>\n",
              "      <td>7.007632e+08</td>\n",
              "      <td>636302</td>\n",
              "      <td>12736.70564</td>\n",
              "      <td>3.274164e+08</td>\n",
              "      <td>0</td>\n",
              "    </tr>\n",
              "    <tr>\n",
              "      <th>17718</th>\n",
              "      <td>2023-09-06 21:00:00</td>\n",
              "      <td>25759.95</td>\n",
              "      <td>26443.14</td>\n",
              "      <td>25615.38</td>\n",
              "      <td>26255.00</td>\n",
              "      <td>27687.49567</td>\n",
              "      <td>2023-09-07 20:59:59.999</td>\n",
              "      <td>7.189230e+08</td>\n",
              "      <td>631929</td>\n",
              "      <td>13506.19156</td>\n",
              "      <td>3.507413e+08</td>\n",
              "      <td>0</td>\n",
              "    </tr>\n",
              "    <tr>\n",
              "      <th>17719</th>\n",
              "      <td>2023-09-07 21:00:00</td>\n",
              "      <td>26255.00</td>\n",
              "      <td>26445.50</td>\n",
              "      <td>25647.26</td>\n",
              "      <td>25910.50</td>\n",
              "      <td>28999.76471</td>\n",
              "      <td>2023-09-08 20:59:59.999</td>\n",
              "      <td>7.541845e+08</td>\n",
              "      <td>646852</td>\n",
              "      <td>14238.89945</td>\n",
              "      <td>3.702368e+08</td>\n",
              "      <td>0</td>\n",
              "    </tr>\n",
              "    <tr>\n",
              "      <th>17720</th>\n",
              "      <td>2023-09-08 21:00:00</td>\n",
              "      <td>25910.50</td>\n",
              "      <td>25945.09</td>\n",
              "      <td>25796.64</td>\n",
              "      <td>25901.61</td>\n",
              "      <td>10980.62277</td>\n",
              "      <td>2023-09-09 20:59:59.999</td>\n",
              "      <td>2.841095e+08</td>\n",
              "      <td>359038</td>\n",
              "      <td>5212.44349</td>\n",
              "      <td>1.348634e+08</td>\n",
              "      <td>0</td>\n",
              "    </tr>\n",
              "    <tr>\n",
              "      <th>17721</th>\n",
              "      <td>2023-09-09 21:00:00</td>\n",
              "      <td>25901.60</td>\n",
              "      <td>26033.66</td>\n",
              "      <td>25570.57</td>\n",
              "      <td>25841.61</td>\n",
              "      <td>18738.26914</td>\n",
              "      <td>2023-09-10 20:59:59.999</td>\n",
              "      <td>4.835775e+08</td>\n",
              "      <td>489773</td>\n",
              "      <td>8747.51072</td>\n",
              "      <td>2.257529e+08</td>\n",
              "      <td>0</td>\n",
              "    </tr>\n",
              "  </tbody>\n",
              "</table>\n",
              "</div>"
            ],
            "text/plain": [
              "                Open Time      Open      High       Low     Close  \\\n",
              "17717 2023-09-05 21:00:00  25792.11  26040.00  25372.51  25759.95   \n",
              "17718 2023-09-06 21:00:00  25759.95  26443.14  25615.38  26255.00   \n",
              "17719 2023-09-07 21:00:00  26255.00  26445.50  25647.26  25910.50   \n",
              "17720 2023-09-08 21:00:00  25910.50  25945.09  25796.64  25901.61   \n",
              "17721 2023-09-09 21:00:00  25901.60  26033.66  25570.57  25841.61   \n",
              "\n",
              "            Volume              Close Time           QAV     NAT        TBBAV  \\\n",
              "17717  27262.52386 2023-09-06 20:59:59.999  7.007632e+08  636302  12736.70564   \n",
              "17718  27687.49567 2023-09-07 20:59:59.999  7.189230e+08  631929  13506.19156   \n",
              "17719  28999.76471 2023-09-08 20:59:59.999  7.541845e+08  646852  14238.89945   \n",
              "17720  10980.62277 2023-09-09 20:59:59.999  2.841095e+08  359038   5212.44349   \n",
              "17721  18738.26914 2023-09-10 20:59:59.999  4.835775e+08  489773   8747.51072   \n",
              "\n",
              "              TBQAV  Ignore  \n",
              "17717  3.274164e+08       0  \n",
              "17718  3.507413e+08       0  \n",
              "17719  3.702368e+08       0  \n",
              "17720  1.348634e+08       0  \n",
              "17721  2.257529e+08       0  "
            ]
          },
          "execution_count": 31,
          "metadata": {},
          "output_type": "execute_result"
        }
      ],
      "source": [
        "data.tail()"
      ]
    },
    {
      "cell_type": "markdown",
      "id": "874e78cf",
      "metadata": {
        "id": "874e78cf"
      },
      "source": [
        "## Visualizing the data"
      ]
    },
    {
      "cell_type": "code",
      "execution_count": null,
      "id": "6cc8b217",
      "metadata": {
        "id": "6cc8b217",
        "outputId": "7c043284-51ad-4727-eec2-8fecc4f4bb99"
      },
      "outputs": [
        {
          "data": {
            "image/png": "[encoded data removed]",
            "text/plain": [
              "<Figure size 1170x390 with 1 Axes>"
            ]
          },
          "metadata": {},
          "output_type": "display_data"
        }
      ],
      "source": [
        "# Visualize the close price history\n",
        "plt.figure(figsize=(15,5), dpi=78, edgecolor='b')\n",
        "plt.title(\"Bitcoin Price History\")\n",
        "ax = plt.gca()\n",
        "ax.xaxis.set_major_locator(MonthLocator(bymonth=[1, 4, 7, 10]))\n",
        "ax.xaxis.set_major_formatter(DateFormatter('%Y-%m'))\n",
        "plt.xticks(rotation=45)\n",
        "plt.plot(data[\"Close Time\"], data[\"Close\"])\n",
        "plt.xlabel(\"Time\", fontsize=14,)\n",
        "plt.ylabel(\"USDT\", fontsize=14)\n",
        "plt.show()"
      ]
    },
    {
      "cell_type": "markdown",
      "id": "0462ad58",
      "metadata": {
        "id": "0462ad58"
      },
      "source": [
        "## Separating data"
      ]
    },
    {
      "cell_type": "code",
      "execution_count": null,
      "id": "b85c0d3a",
      "metadata": {
        "id": "b85c0d3a"
      },
      "outputs": [],
      "source": [
        "# Create new data with only the \"Close\" column\n",
        "close = data.filter([\"Close\"])\n",
        "# Convert the dataframe to a np array\n",
        "close_array = close.to_numpy()\n",
        "# See the train data len\n",
        "train_close_len = ceil(len(close_array) * 0.8)\n",
        "# Normalize the data\n",
        "scaler = MinMaxScaler()\n",
        "scaled_data = scaler.fit_transform(close_array)\n",
        "X, y = create_sequences(scaled_data, input_steps=60, output_steps=1)\n",
        "X_train, y_train, X_test, y_test = prepare_data(scaled_data, 0.20, data)"
      ]
    },
    {
      "cell_type": "code",
      "execution_count": null,
      "id": "4ce11862",
      "metadata": {
        "id": "4ce11862",
        "outputId": "239e3488-e8c3-4cc8-b611-c6f6bbf9098e"
      },
      "outputs": [
        {
          "name": "stdout",
          "output_type": "stream",
          "text": [
            "Trial 2 Complete [00h 00m 01s]\n",
            "\n",
            "Best mse So Far: None\n",
            "Total elapsed time: 00h 00m 03s\n",
            "\n",
            "Search: Running Trial #3\n",
            "\n",
            "Value             |Best Value So Far |Hyperparameter\n",
            "160               |64                |input_unit\n",
            "2                 |2                 |n_layers\n",
            "64                |512               |lstm_0_units\n",
            "256               |448               |layer_2_neurons\n",
            "0.4               |0.45              |Dropout_rate\n",
            "sigmoid           |relu              |dense_activation\n",
            "224               |32                |lstm_1_units\n",
            "\n"
          ]
        },
        {
          "name": "stderr",
          "output_type": "stream",
          "text": [
            "Traceback (most recent call last):\n",
            "  File \"/Users/guigo1008/anaconda3/envs/ml/lib/python3.11/site-packages/keras_tuner/engine/base_tuner.py\", line 270, in _try_run_and_update_trial\n",
            "    self._run_and_update_trial(trial, *fit_args, **fit_kwargs)\n",
            "  File \"/Users/guigo1008/anaconda3/envs/ml/lib/python3.11/site-packages/keras_tuner/engine/base_tuner.py\", line 235, in _run_and_update_trial\n",
            "    results = self.run_trial(trial, *fit_args, **fit_kwargs)\n",
            "              ^^^^^^^^^^^^^^^^^^^^^^^^^^^^^^^^^^^^^^^^^^^^^^\n",
            "  File \"/Users/guigo1008/anaconda3/envs/ml/lib/python3.11/site-packages/keras_tuner/engine/tuner.py\", line 287, in run_trial\n",
            "    obj_value = self._build_and_fit_model(trial, *args, **copied_kwargs)\n",
            "                ^^^^^^^^^^^^^^^^^^^^^^^^^^^^^^^^^^^^^^^^^^^^^^^^^^^^^^^^\n",
            "  File \"/Users/guigo1008/anaconda3/envs/ml/lib/python3.11/site-packages/keras_tuner/engine/tuner.py\", line 214, in _build_and_fit_model\n",
            "    results = self.hypermodel.fit(hp, model, *args, **kwargs)\n",
            "              ^^^^^^^^^^^^^^^^^^^^^^^^^^^^^^^^^^^^^^^^^^^^^^^\n",
            "  File \"/Users/guigo1008/anaconda3/envs/ml/lib/python3.11/site-packages/keras_tuner/engine/hypermodel.py\", line 144, in fit\n",
            "    return model.fit(*args, **kwargs)\n",
            "           ^^^^^^^^^^^^^^^^^^^^^^^^^^\n",
            "  File \"/Users/guigo1008/anaconda3/envs/ml/lib/python3.11/site-packages/keras/src/utils/traceback_utils.py\", line 70, in error_handler\n",
            "    raise e.with_traceback(filtered_tb) from None\n",
            "  File \"/Users/guigo1008/anaconda3/envs/ml/lib/python3.11/site-packages/tensorflow/python/framework/constant_op.py\", line 98, in convert_to_eager_tensor\n",
            "    return ops.EagerTensor(value, ctx.device_name, dtype)\n",
            "           ^^^^^^^^^^^^^^^^^^^^^^^^^^^^^^^^^^^^^^^^^^^^^^\n",
            "ValueError: Failed to convert a NumPy array to a Tensor (Unsupported object type Timestamp).\n"
          ]
        },
        {
          "ename": "RuntimeError",
          "evalue": "Number of consecutive failures excceeded the limit of 3.\nTraceback (most recent call last):\n  File \"/Users/guigo1008/anaconda3/envs/ml/lib/python3.11/site-packages/keras_tuner/engine/base_tuner.py\", line 270, in _try_run_and_update_trial\n    self._run_and_update_trial(trial, *fit_args, **fit_kwargs)\n  File \"/Users/guigo1008/anaconda3/envs/ml/lib/python3.11/site-packages/keras_tuner/engine/base_tuner.py\", line 235, in _run_and_update_trial\n    results = self.run_trial(trial, *fit_args, **fit_kwargs)\n              ^^^^^^^^^^^^^^^^^^^^^^^^^^^^^^^^^^^^^^^^^^^^^^\n  File \"/Users/guigo1008/anaconda3/envs/ml/lib/python3.11/site-packages/keras_tuner/engine/tuner.py\", line 287, in run_trial\n    obj_value = self._build_and_fit_model(trial, *args, **copied_kwargs)\n                ^^^^^^^^^^^^^^^^^^^^^^^^^^^^^^^^^^^^^^^^^^^^^^^^^^^^^^^^\n  File \"/Users/guigo1008/anaconda3/envs/ml/lib/python3.11/site-packages/keras_tuner/engine/tuner.py\", line 214, in _build_and_fit_model\n    results = self.hypermodel.fit(hp, model, *args, **kwargs)\n              ^^^^^^^^^^^^^^^^^^^^^^^^^^^^^^^^^^^^^^^^^^^^^^^\n  File \"/Users/guigo1008/anaconda3/envs/ml/lib/python3.11/site-packages/keras_tuner/engine/hypermodel.py\", line 144, in fit\n    return model.fit(*args, **kwargs)\n           ^^^^^^^^^^^^^^^^^^^^^^^^^^\n  File \"/Users/guigo1008/anaconda3/envs/ml/lib/python3.11/site-packages/keras/src/utils/traceback_utils.py\", line 70, in error_handler\n    raise e.with_traceback(filtered_tb) from None\n  File \"/Users/guigo1008/anaconda3/envs/ml/lib/python3.11/site-packages/tensorflow/python/framework/constant_op.py\", line 98, in convert_to_eager_tensor\n    return ops.EagerTensor(value, ctx.device_name, dtype)\n           ^^^^^^^^^^^^^^^^^^^^^^^^^^^^^^^^^^^^^^^^^^^^^^\nValueError: Failed to convert a NumPy array to a Tensor (Unsupported object type Timestamp).\n",
          "output_type": "error",
          "traceback": [
            "\u001b[0;31m---------------------------------------------------------------------------\u001b[0m",
            "\u001b[0;31mRuntimeError\u001b[0m                              Traceback (most recent call last)",
            "Cell \u001b[0;32mIn[37], line 25\u001b[0m\n\u001b[1;32m     21\u001b[0m     \u001b[38;5;28;01mreturn\u001b[39;00m model\n\u001b[1;32m     23\u001b[0m tuner \u001b[38;5;241m=\u001b[39m kt\u001b[38;5;241m.\u001b[39mRandomSearch(model_builder, objective\u001b[38;5;241m=\u001b[39m\u001b[38;5;124m\"\u001b[39m\u001b[38;5;124mmse\u001b[39m\u001b[38;5;124m\"\u001b[39m, max_trials \u001b[38;5;241m=\u001b[39m \u001b[38;5;241m3\u001b[39m, executions_per_trial \u001b[38;5;241m=\u001b[39m\u001b[38;5;241m1\u001b[39m,directory \u001b[38;5;241m=\u001b[39m \u001b[38;5;124m\"\u001b[39m\u001b[38;5;124m./\u001b[39m\u001b[38;5;124m\"\u001b[39m)\n\u001b[0;32m---> 25\u001b[0m tuner\u001b[38;5;241m.\u001b[39msearch(x\u001b[38;5;241m=\u001b[39mX_train, y\u001b[38;5;241m=\u001b[39my_train, epochs\u001b[38;5;241m=\u001b[39m\u001b[38;5;241m150\u001b[39m, batch_size\u001b[38;5;241m=\u001b[39m\u001b[38;5;241m128\u001b[39m, validation_data\u001b[38;5;241m=\u001b[39m(X_test, y_test), shuffle\u001b[38;5;241m=\u001b[39m\u001b[38;5;28;01mFalse\u001b[39;00m)\n",
            "File \u001b[0;32m~/anaconda3/envs/ml/lib/python3.11/site-packages/keras_tuner/engine/base_tuner.py:231\u001b[0m, in \u001b[0;36mBaseTuner.search\u001b[0;34m(self, *fit_args, **fit_kwargs)\u001b[0m\n\u001b[1;32m    229\u001b[0m     \u001b[38;5;28mself\u001b[39m\u001b[38;5;241m.\u001b[39mon_trial_begin(trial)\n\u001b[1;32m    230\u001b[0m     \u001b[38;5;28mself\u001b[39m\u001b[38;5;241m.\u001b[39m_try_run_and_update_trial(trial, \u001b[38;5;241m*\u001b[39mfit_args, \u001b[38;5;241m*\u001b[39m\u001b[38;5;241m*\u001b[39mfit_kwargs)\n\u001b[0;32m--> 231\u001b[0m     \u001b[38;5;28mself\u001b[39m\u001b[38;5;241m.\u001b[39mon_trial_end(trial)\n\u001b[1;32m    232\u001b[0m \u001b[38;5;28mself\u001b[39m\u001b[38;5;241m.\u001b[39mon_search_end()\n",
            "File \u001b[0;32m~/anaconda3/envs/ml/lib/python3.11/site-packages/keras_tuner/engine/base_tuner.py:335\u001b[0m, in \u001b[0;36mBaseTuner.on_trial_end\u001b[0;34m(self, trial)\u001b[0m\n\u001b[1;32m    329\u001b[0m \u001b[38;5;28;01mdef\u001b[39;00m \u001b[38;5;21mon_trial_end\u001b[39m(\u001b[38;5;28mself\u001b[39m, trial):\n\u001b[1;32m    330\u001b[0m \u001b[38;5;250m    \u001b[39m\u001b[38;5;124;03m\"\"\"Called at the end of a trial.\u001b[39;00m\n\u001b[1;32m    331\u001b[0m \n\u001b[1;32m    332\u001b[0m \u001b[38;5;124;03m    Args:\u001b[39;00m\n\u001b[1;32m    333\u001b[0m \u001b[38;5;124;03m        trial: A `Trial` instance.\u001b[39;00m\n\u001b[1;32m    334\u001b[0m \u001b[38;5;124;03m    \"\"\"\u001b[39;00m\n\u001b[0;32m--> 335\u001b[0m     \u001b[38;5;28mself\u001b[39m\u001b[38;5;241m.\u001b[39moracle\u001b[38;5;241m.\u001b[39mend_trial(trial)\n\u001b[1;32m    336\u001b[0m     \u001b[38;5;66;03m# Display needs the updated trial scored by the Oracle.\u001b[39;00m\n\u001b[1;32m    337\u001b[0m     \u001b[38;5;28mself\u001b[39m\u001b[38;5;241m.\u001b[39m_display\u001b[38;5;241m.\u001b[39mon_trial_end(\u001b[38;5;28mself\u001b[39m\u001b[38;5;241m.\u001b[39moracle\u001b[38;5;241m.\u001b[39mget_trial(trial\u001b[38;5;241m.\u001b[39mtrial_id))\n",
            "File \u001b[0;32m~/anaconda3/envs/ml/lib/python3.11/site-packages/keras_tuner/engine/oracle.py:107\u001b[0m, in \u001b[0;36msynchronized.<locals>.wrapped_func\u001b[0;34m(*args, **kwargs)\u001b[0m\n\u001b[1;32m    105\u001b[0m     LOCKS[oracle]\u001b[38;5;241m.\u001b[39macquire()\n\u001b[1;32m    106\u001b[0m     THREADS[oracle] \u001b[38;5;241m=\u001b[39m thread_name\n\u001b[0;32m--> 107\u001b[0m ret_val \u001b[38;5;241m=\u001b[39m func(\u001b[38;5;241m*\u001b[39margs, \u001b[38;5;241m*\u001b[39m\u001b[38;5;241m*\u001b[39mkwargs)\n\u001b[1;32m    108\u001b[0m \u001b[38;5;28;01mif\u001b[39;00m need_acquire:\n\u001b[1;32m    109\u001b[0m     THREADS[oracle] \u001b[38;5;241m=\u001b[39m \u001b[38;5;28;01mNone\u001b[39;00m\n",
            "File \u001b[0;32m~/anaconda3/envs/ml/lib/python3.11/site-packages/keras_tuner/engine/oracle.py:434\u001b[0m, in \u001b[0;36mOracle.end_trial\u001b[0;34m(self, trial)\u001b[0m\n\u001b[1;32m    432\u001b[0m \u001b[38;5;28;01mif\u001b[39;00m \u001b[38;5;129;01mnot\u001b[39;00m \u001b[38;5;28mself\u001b[39m\u001b[38;5;241m.\u001b[39m_retry(trial):\n\u001b[1;32m    433\u001b[0m     \u001b[38;5;28mself\u001b[39m\u001b[38;5;241m.\u001b[39mend_order\u001b[38;5;241m.\u001b[39mappend(trial\u001b[38;5;241m.\u001b[39mtrial_id)\n\u001b[0;32m--> 434\u001b[0m     \u001b[38;5;28mself\u001b[39m\u001b[38;5;241m.\u001b[39m_check_consecutive_failures()\n\u001b[1;32m    436\u001b[0m \u001b[38;5;28mself\u001b[39m\u001b[38;5;241m.\u001b[39m_save_trial(trial)\n\u001b[1;32m    437\u001b[0m \u001b[38;5;28mself\u001b[39m\u001b[38;5;241m.\u001b[39msave()\n",
            "File \u001b[0;32m~/anaconda3/envs/ml/lib/python3.11/site-packages/keras_tuner/engine/oracle.py:386\u001b[0m, in \u001b[0;36mOracle._check_consecutive_failures\u001b[0;34m(self)\u001b[0m\n\u001b[1;32m    384\u001b[0m     consecutive_failures \u001b[38;5;241m=\u001b[39m \u001b[38;5;241m0\u001b[39m\n\u001b[1;32m    385\u001b[0m \u001b[38;5;28;01mif\u001b[39;00m consecutive_failures \u001b[38;5;241m==\u001b[39m \u001b[38;5;28mself\u001b[39m\u001b[38;5;241m.\u001b[39mmax_consecutive_failed_trials:\n\u001b[0;32m--> 386\u001b[0m     \u001b[38;5;28;01mraise\u001b[39;00m \u001b[38;5;167;01mRuntimeError\u001b[39;00m(\n\u001b[1;32m    387\u001b[0m         \u001b[38;5;124m\"\u001b[39m\u001b[38;5;124mNumber of consecutive failures excceeded the limit \u001b[39m\u001b[38;5;124m\"\u001b[39m\n\u001b[1;32m    388\u001b[0m         \u001b[38;5;124mf\u001b[39m\u001b[38;5;124m\"\u001b[39m\u001b[38;5;124mof \u001b[39m\u001b[38;5;132;01m{\u001b[39;00m\u001b[38;5;28mself\u001b[39m\u001b[38;5;241m.\u001b[39mmax_consecutive_failed_trials\u001b[38;5;132;01m}\u001b[39;00m\u001b[38;5;124m.\u001b[39m\u001b[38;5;130;01m\\n\u001b[39;00m\u001b[38;5;124m\"\u001b[39m\n\u001b[1;32m    389\u001b[0m         \u001b[38;5;241m+\u001b[39m trial\u001b[38;5;241m.\u001b[39mmessage\n\u001b[1;32m    390\u001b[0m     )\n",
            "\u001b[0;31mRuntimeError\u001b[0m: Number of consecutive failures excceeded the limit of 3.\nTraceback (most recent call last):\n  File \"/Users/guigo1008/anaconda3/envs/ml/lib/python3.11/site-packages/keras_tuner/engine/base_tuner.py\", line 270, in _try_run_and_update_trial\n    self._run_and_update_trial(trial, *fit_args, **fit_kwargs)\n  File \"/Users/guigo1008/anaconda3/envs/ml/lib/python3.11/site-packages/keras_tuner/engine/base_tuner.py\", line 235, in _run_and_update_trial\n    results = self.run_trial(trial, *fit_args, **fit_kwargs)\n              ^^^^^^^^^^^^^^^^^^^^^^^^^^^^^^^^^^^^^^^^^^^^^^\n  File \"/Users/guigo1008/anaconda3/envs/ml/lib/python3.11/site-packages/keras_tuner/engine/tuner.py\", line 287, in run_trial\n    obj_value = self._build_and_fit_model(trial, *args, **copied_kwargs)\n                ^^^^^^^^^^^^^^^^^^^^^^^^^^^^^^^^^^^^^^^^^^^^^^^^^^^^^^^^\n  File \"/Users/guigo1008/anaconda3/envs/ml/lib/python3.11/site-packages/keras_tuner/engine/tuner.py\", line 214, in _build_and_fit_model\n    results = self.hypermodel.fit(hp, model, *args, **kwargs)\n              ^^^^^^^^^^^^^^^^^^^^^^^^^^^^^^^^^^^^^^^^^^^^^^^\n  File \"/Users/guigo1008/anaconda3/envs/ml/lib/python3.11/site-packages/keras_tuner/engine/hypermodel.py\", line 144, in fit\n    return model.fit(*args, **kwargs)\n           ^^^^^^^^^^^^^^^^^^^^^^^^^^\n  File \"/Users/guigo1008/anaconda3/envs/ml/lib/python3.11/site-packages/keras/src/utils/traceback_utils.py\", line 70, in error_handler\n    raise e.with_traceback(filtered_tb) from None\n  File \"/Users/guigo1008/anaconda3/envs/ml/lib/python3.11/site-packages/tensorflow/python/framework/constant_op.py\", line 98, in convert_to_eager_tensor\n    return ops.EagerTensor(value, ctx.device_name, dtype)\n           ^^^^^^^^^^^^^^^^^^^^^^^^^^^^^^^^^^^^^^^^^^^^^^\nValueError: Failed to convert a NumPy array to a Tensor (Unsupported object type Timestamp).\n"
          ]
        }
      ],
      "source": [
        "def model_builder(hp):\n",
        "    \"\"\"\n",
        "    This function create our model.\n",
        "    We are using keras tuner to search\n",
        "    for the best hyperparameters.\n",
        "    Returns:\n",
        "        Model ready for training.\n",
        "    \"\"\"\n",
        "    model = Sequential()\n",
        "    model.add(LSTM(hp.Int('input_unit',min_value=32,max_value=512,step=32), return_sequences=True, input_shape= (X_train.shape[1], X_train.shape[2])))\n",
        "    for i in range(hp.Int('n_layers', 1, 4)):\n",
        "        model.add(LSTM(hp.Int(f'lstm_{i}_units',min_value=32,max_value=512,step=32),return_sequences=True))\n",
        "    model.add(LSTM(hp.Int('layer_2_neurons',min_value=32,max_value=512,step=32)))\n",
        "    model.add(Dropout(hp.Float('Dropout_rate',min_value=0,max_value=0.5,step=0.05)))\n",
        "    model.add(Dense(30, activation=hp.Choice('dense_activation',values=['relu', 'sigmoid'],default='relu')))\n",
        "    model.add(Dropout(hp.Float('Dropout_rate',min_value=0,max_value=0.5,step=0.05)))\n",
        "    model.add(Dense(1, activation=hp.Choice('dense_activation',values=['relu', 'sigmoid'],default='relu')))\n",
        "\n",
        "    model.compile(loss='mean_squared_error', optimizer='adam',metrics = ['mse'])\n",
        "\n",
        "    return model\n",
        "\n",
        "tuner = kt.RandomSearch(model_builder, objective=\"mse\", max_trials = 3, executions_per_trial =1,directory = \"./\")\n",
        "\n",
        "tuner.search(x=X_train, y=y_train, epochs=150, batch_size=128, validation_data=(X_test, y_test), shuffle=False)"
      ]
    },
    {
      "cell_type": "code",
      "execution_count": null,
      "id": "e6bce952",
      "metadata": {
        "id": "e6bce952",
        "outputId": "55d70152-46cb-4d98-fc86-09b0ac1a68bf"
      },
      "outputs": [
        {
          "data": {
            "text/plain": [
              "array([[Timestamp('2017-10-15 22:00:00'), 5710.0, 5788.91, ...,\n",
              "        719.218538, 4096285.84717841, 0],\n",
              "       [Timestamp('2017-10-16 22:00:00'), 5760.0, 5774.98, ...,\n",
              "        688.766779, 3874630.11789208, 0],\n",
              "       [Timestamp('2017-10-17 22:00:00'), 5595.0, 5596.0, ...,\n",
              "        1039.622475, 5582555.96464678, 0],\n",
              "       ...,\n",
              "       [Timestamp('2020-01-17 21:00:00'), 8913.27, 8988.88, ...,\n",
              "        19421.295313, 172895403.23974317, 0],\n",
              "       [Timestamp('2020-01-18 21:00:00'), 8915.09, 9198.98, ...,\n",
              "        33655.943241, 297282818.0931591, 0],\n",
              "       [Timestamp('2020-01-19 21:00:00'), 8701.72, 8746.99, ...,\n",
              "        19453.863782, 168293007.48754647, 0]], dtype=object)"
            ]
          },
          "execution_count": 41,
          "metadata": {},
          "output_type": "execute_result"
        }
      ],
      "source": [
        "y_train"
      ]
    },
    {
      "cell_type": "code",
      "execution_count": null,
      "id": "4cee144e",
      "metadata": {
        "id": "4cee144e"
      },
      "outputs": [],
      "source": [
        "# Visualize the close price history\n",
        "plt.figure(figsize=(15,5), dpi=78, edgecolor='b')\n",
        "plt.title(\"Bitcoin Price History\")\n",
        "ax = plt.gca()\n",
        "ax.xaxis.set_major_locator(MonthLocator(bymonth=[1, 4, 7, 10]))\n",
        "ax.xaxis.set_major_formatter(DateFormatter('%Y-%m'))\n",
        "plt.xticks(rotation=45)\n",
        "plt.plot(data[\"Close Time\"], data[\"Close\"])\n",
        "plt.xlabel(\"Time\", fontsize=14,)\n",
        "plt.ylabel(\"USDT\", fontsize=14)\n",
        "plt.show()"
      ]
    }
  ],
  "metadata": {
    "kernelspec": {
      "display_name": "Python 3 (ipykernel)",
      "language": "python",
      "name": "python3"
    },
    "language_info": {
      "codemirror_mode": {
        "name": "ipython",
        "version": 3
      },
      "file_extension": ".py",
      "mimetype": "text/x-python",
      "name": "python",
      "nbconvert_exporter": "python",
      "pygments_lexer": "ipython3",
      "version": "3.11.4"
    },
    "colab": {
      "provenance": [],
      "include_colab_link": true
    }
  },
  "nbformat": 4,
  "nbformat_minor": 5
}