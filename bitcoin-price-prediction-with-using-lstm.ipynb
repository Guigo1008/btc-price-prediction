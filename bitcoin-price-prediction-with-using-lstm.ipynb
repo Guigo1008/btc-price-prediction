{
 "cells": [
  {
   "cell_type": "markdown",
   "metadata": {},
   "source": [
    "## Fetch Bitcoin Data"
   ]
  },
  {
   "cell_type": "code",
   "execution_count": 32,
   "metadata": {
    "execution": {
     "iopub.execute_input": "2023-09-10T01:35:26.378025Z",
     "iopub.status.busy": "2023-09-10T01:35:26.377434Z",
     "iopub.status.idle": "2023-09-10T01:35:43.437782Z",
     "shell.execute_reply": "2023-09-10T01:35:43.436673Z",
     "shell.execute_reply.started": "2023-09-10T01:35:26.377955Z"
    }
   },
   "outputs": [
    {
     "name": "stdout",
     "output_type": "stream",
     "text": [
      "Requirement already satisfied: pandas_ta in /Users/guigo1008/anaconda3/envs/ml/lib/python3.11/site-packages (0.3.14b0)\n",
      "Requirement already satisfied: pandas in /Users/guigo1008/anaconda3/envs/ml/lib/python3.11/site-packages (from pandas_ta) (2.1.0)\n",
      "Requirement already satisfied: numpy>=1.23.2 in /Users/guigo1008/anaconda3/envs/ml/lib/python3.11/site-packages (from pandas->pandas_ta) (1.24.3)\n",
      "Requirement already satisfied: python-dateutil>=2.8.2 in /Users/guigo1008/anaconda3/envs/ml/lib/python3.11/site-packages (from pandas->pandas_ta) (2.8.2)\n",
      "Requirement already satisfied: pytz>=2020.1 in /Users/guigo1008/anaconda3/envs/ml/lib/python3.11/site-packages (from pandas->pandas_ta) (2022.7)\n",
      "Requirement already satisfied: tzdata>=2022.1 in /Users/guigo1008/anaconda3/envs/ml/lib/python3.11/site-packages (from pandas->pandas_ta) (2023.3)\n",
      "Requirement already satisfied: six>=1.5 in /Users/guigo1008/anaconda3/envs/ml/lib/python3.11/site-packages (from python-dateutil>=2.8.2->pandas->pandas_ta) (1.16.0)\n",
      "Requirement already satisfied: python-binance in /Users/guigo1008/anaconda3/envs/ml/lib/python3.11/site-packages (1.0.19)\n",
      "Requirement already satisfied: requests in /Users/guigo1008/anaconda3/envs/ml/lib/python3.11/site-packages (from python-binance) (2.31.0)\n",
      "Requirement already satisfied: six in /Users/guigo1008/anaconda3/envs/ml/lib/python3.11/site-packages (from python-binance) (1.16.0)\n",
      "Requirement already satisfied: dateparser in /Users/guigo1008/anaconda3/envs/ml/lib/python3.11/site-packages (from python-binance) (1.1.8)\n",
      "Requirement already satisfied: aiohttp in /Users/guigo1008/anaconda3/envs/ml/lib/python3.11/site-packages (from python-binance) (3.8.5)\n",
      "Requirement already satisfied: ujson in /Users/guigo1008/anaconda3/envs/ml/lib/python3.11/site-packages (from python-binance) (5.8.0)\n",
      "Requirement already satisfied: websockets in /Users/guigo1008/anaconda3/envs/ml/lib/python3.11/site-packages (from python-binance) (11.0.3)\n",
      "Requirement already satisfied: pycryptodome in /Users/guigo1008/anaconda3/envs/ml/lib/python3.11/site-packages (from python-binance) (3.18.0)\n",
      "Requirement already satisfied: attrs>=17.3.0 in /Users/guigo1008/anaconda3/envs/ml/lib/python3.11/site-packages (from aiohttp->python-binance) (22.1.0)\n",
      "Requirement already satisfied: charset-normalizer<4.0,>=2.0 in /Users/guigo1008/anaconda3/envs/ml/lib/python3.11/site-packages (from aiohttp->python-binance) (2.0.4)\n",
      "Requirement already satisfied: multidict<7.0,>=4.5 in /Users/guigo1008/anaconda3/envs/ml/lib/python3.11/site-packages (from aiohttp->python-binance) (6.0.4)\n",
      "Requirement already satisfied: async-timeout<5.0,>=4.0.0a3 in /Users/guigo1008/anaconda3/envs/ml/lib/python3.11/site-packages (from aiohttp->python-binance) (4.0.3)\n",
      "Requirement already satisfied: yarl<2.0,>=1.0 in /Users/guigo1008/anaconda3/envs/ml/lib/python3.11/site-packages (from aiohttp->python-binance) (1.9.2)\n",
      "Requirement already satisfied: frozenlist>=1.1.1 in /Users/guigo1008/anaconda3/envs/ml/lib/python3.11/site-packages (from aiohttp->python-binance) (1.4.0)\n",
      "Requirement already satisfied: aiosignal>=1.1.2 in /Users/guigo1008/anaconda3/envs/ml/lib/python3.11/site-packages (from aiohttp->python-binance) (1.3.1)\n",
      "Requirement already satisfied: python-dateutil in /Users/guigo1008/anaconda3/envs/ml/lib/python3.11/site-packages (from dateparser->python-binance) (2.8.2)\n",
      "Requirement already satisfied: pytz in /Users/guigo1008/anaconda3/envs/ml/lib/python3.11/site-packages (from dateparser->python-binance) (2022.7)\n",
      "Requirement already satisfied: regex!=2019.02.19,!=2021.8.27 in /Users/guigo1008/anaconda3/envs/ml/lib/python3.11/site-packages (from dateparser->python-binance) (2023.8.8)\n",
      "Requirement already satisfied: tzlocal in /Users/guigo1008/anaconda3/envs/ml/lib/python3.11/site-packages (from dateparser->python-binance) (5.0.1)\n",
      "Requirement already satisfied: idna<4,>=2.5 in /Users/guigo1008/anaconda3/envs/ml/lib/python3.11/site-packages (from requests->python-binance) (3.4)\n",
      "Requirement already satisfied: urllib3<3,>=1.21.1 in /Users/guigo1008/anaconda3/envs/ml/lib/python3.11/site-packages (from requests->python-binance) (1.26.16)\n",
      "Requirement already satisfied: certifi>=2017.4.17 in /Users/guigo1008/anaconda3/envs/ml/lib/python3.11/site-packages (from requests->python-binance) (2023.7.22)\n"
     ]
    }
   ],
   "source": [
    "!pip install pandas_ta\n",
    "!pip install python-binance"
   ]
  },
  {
   "cell_type": "code",
   "execution_count": 33,
   "metadata": {
    "execution": {
     "iopub.execute_input": "2023-09-10T01:35:43.439920Z",
     "iopub.status.busy": "2023-09-10T01:35:43.439526Z",
     "iopub.status.idle": "2023-09-10T01:35:45.856146Z",
     "shell.execute_reply": "2023-09-10T01:35:45.854858Z",
     "shell.execute_reply.started": "2023-09-10T01:35:43.439886Z"
    }
   },
   "outputs": [],
   "source": [
    "# import libraries\n",
    "import math\n",
    "import pandas_ta as ta\n",
    "import numpy as np\n",
    "import pandas as pd\n",
    "from sklearn.preprocessing import MinMaxScaler\n",
    "from keras.models import Sequential\n",
    "from keras.layers import Dense, LSTM, Dropout\n",
    "import matplotlib.pyplot as plt\n",
    "from datetime import datetime as dt\n",
    "from binance import Client\n",
    "import csv\n",
    "\n",
    "# ignore warnings\n",
    "import warnings\n",
    "warnings.filterwarnings(\"ignore\")"
   ]
  },
  {
   "cell_type": "code",
   "execution_count": 34,
   "metadata": {
    "execution": {
     "iopub.execute_input": "2023-09-10T01:37:01.500025Z",
     "iopub.status.busy": "2023-09-10T01:37:01.499269Z",
     "iopub.status.idle": "2023-09-10T01:37:01.792095Z",
     "shell.execute_reply": "2023-09-10T01:37:01.790567Z",
     "shell.execute_reply.started": "2023-09-10T01:37:01.499992Z"
    }
   },
   "outputs": [],
   "source": [
    "# create client object from binance library\n",
    "client = Client(None, None)"
   ]
  },
  {
   "cell_type": "code",
   "execution_count": 35,
   "metadata": {
    "execution": {
     "iopub.execute_input": "2023-09-10T01:37:01.794093Z",
     "iopub.status.busy": "2023-09-10T01:37:01.793721Z",
     "iopub.status.idle": "2023-09-10T01:37:01.800413Z",
     "shell.execute_reply": "2023-09-10T01:37:01.798945Z",
     "shell.execute_reply.started": "2023-09-10T01:37:01.794067Z"
    }
   },
   "outputs": [],
   "source": [
    "# defining the function that fetch the historical data of the wanted coin\n",
    "def getdata(symbol, period, start, end):\n",
    "    \"\"\"\n",
    "    This function gives us the historical candle data of the desired coin\n",
    "    :param symbol: coin name that you want to get data\n",
    "    :param period: time period of candles\n",
    "    :param start: starting date of candles data\n",
    "    :param end: end date of candles data\n",
    "    :return: candles data\n",
    "    \"\"\"\n",
    "    candles = client.get_historical_klines(symbol, period, start, end)\n",
    "    return candles"
   ]
  },
  {
   "cell_type": "code",
   "execution_count": 36,
   "metadata": {
    "execution": {
     "iopub.execute_input": "2023-09-10T01:37:01.801964Z",
     "iopub.status.busy": "2023-09-10T01:37:01.801703Z",
     "iopub.status.idle": "2023-09-10T01:37:01.811688Z",
     "shell.execute_reply": "2023-09-10T01:37:01.810850Z",
     "shell.execute_reply.started": "2023-09-10T01:37:01.801942Z"
    }
   },
   "outputs": [],
   "source": [
    "# defining the function that make csv file of the historical data of the wanted coin\n",
    "def make_csv(symbol, candles):\n",
    "    \"\"\"\n",
    "    This function makes csv file of desired coin with defined properties\n",
    "    :param symbol: coin name that you want to make csv file\n",
    "    :param candles: historical data of the desired coin\n",
    "    :return: historical data in csv file\n",
    "    \"\"\"\n",
    "    csvfile = open(symbol + \".csv\", \"a\", newline=\"\")\n",
    "    cursor = csv.writer(csvfile)\n",
    "    for i in candles:\n",
    "        cursor.writerow(i)\n",
    "    csvfile.close()"
   ]
  },
  {
   "cell_type": "code",
   "execution_count": 37,
   "metadata": {
    "execution": {
     "iopub.execute_input": "2023-09-10T01:37:01.813590Z",
     "iopub.status.busy": "2023-09-10T01:37:01.812657Z",
     "iopub.status.idle": "2023-09-10T01:37:01.826181Z",
     "shell.execute_reply": "2023-09-10T01:37:01.825292Z",
     "shell.execute_reply.started": "2023-09-10T01:37:01.813564Z"
    }
   },
   "outputs": [],
   "source": [
    "# defining the function that make csv files of the historical data of the wanted multiple coin\n",
    "def multiple_csv(symbols, interval, start, end):\n",
    "    \"\"\"\n",
    "    This function makes csv file for each coin in symbols parameter with defined properties\n",
    "    :param symbols: list of multiple coin names that you want to make csv file\n",
    "    :param interval: time period of candles (default: client.KLINE_INTERVAL_1DAY you can change the interval)\n",
    "    :param start: starting date of candles data\n",
    "    :param end: end date of candles data\n",
    "    :return: historical data of multiple coin in csv files\n",
    "    \"\"\"\n",
    "    for i in symbols:\n",
    "        make_csv(i, getdata(i, interval, str(start), str(end)))\n",
    "        print(i, \"csv file is ready.\")"
   ]
  },
  {
   "cell_type": "code",
   "execution_count": 38,
   "metadata": {
    "execution": {
     "iopub.execute_input": "2023-09-10T01:37:01.827710Z",
     "iopub.status.busy": "2023-09-10T01:37:01.827429Z",
     "iopub.status.idle": "2023-09-10T01:37:01.842305Z",
     "shell.execute_reply": "2023-09-10T01:37:01.841189Z",
     "shell.execute_reply.started": "2023-09-10T01:37:01.827686Z"
    }
   },
   "outputs": [],
   "source": [
    "# defining function the that turn the timestamp to the date \n",
    "def calculate_time(timestamp):\n",
    "    \"\"\"\n",
    "    This function turns the timestamp to the date\n",
    "    :param timestamp: given timestamp\n",
    "    :return: date according to given timestamp\n",
    "    \"\"\"\n",
    "    return dt.fromtimestamp(timestamp/1000)"
   ]
  },
  {
   "cell_type": "code",
   "execution_count": 39,
   "metadata": {
    "execution": {
     "iopub.execute_input": "2023-09-10T01:37:01.844999Z",
     "iopub.status.busy": "2023-09-10T01:37:01.844569Z",
     "iopub.status.idle": "2023-09-10T01:37:03.530923Z",
     "shell.execute_reply": "2023-09-10T01:37:03.529911Z",
     "shell.execute_reply.started": "2023-09-10T01:37:01.844966Z"
    }
   },
   "outputs": [
    {
     "name": "stdout",
     "output_type": "stream",
     "text": [
      "BTCUSDT csv file is ready.\n"
     ]
    }
   ],
   "source": [
    "# get Bitcoin historical data and make csv\n",
    "multiple_csv([\"BTCUSDT\"], client.KLINE_INTERVAL_1DAY, \"8 November 2010\", \"10 September 2023\")"
   ]
  },
  {
   "cell_type": "code",
   "execution_count": 40,
   "metadata": {
    "execution": {
     "iopub.execute_input": "2023-09-10T01:37:11.903824Z",
     "iopub.status.busy": "2023-09-10T01:37:11.903466Z",
     "iopub.status.idle": "2023-09-10T01:37:11.928447Z",
     "shell.execute_reply": "2023-09-10T01:37:11.927580Z",
     "shell.execute_reply.started": "2023-09-10T01:37:11.903797Z"
    }
   },
   "outputs": [
    {
     "data": {
      "text/html": [
       "<div>\n",
       "<style scoped>\n",
       "    .dataframe tbody tr th:only-of-type {\n",
       "        vertical-align: middle;\n",
       "    }\n",
       "\n",
       "    .dataframe tbody tr th {\n",
       "        vertical-align: top;\n",
       "    }\n",
       "\n",
       "    .dataframe thead th {\n",
       "        text-align: right;\n",
       "    }\n",
       "</style>\n",
       "<table border=\"1\" class=\"dataframe\">\n",
       "  <thead>\n",
       "    <tr style=\"text-align: right;\">\n",
       "      <th></th>\n",
       "      <th>Open Time</th>\n",
       "      <th>Open</th>\n",
       "      <th>High</th>\n",
       "      <th>Low</th>\n",
       "      <th>Close</th>\n",
       "      <th>Volume</th>\n",
       "      <th>Close Time</th>\n",
       "      <th>QAV</th>\n",
       "      <th>NAT</th>\n",
       "      <th>TBBAV</th>\n",
       "      <th>TBQAV</th>\n",
       "      <th>Ignore</th>\n",
       "    </tr>\n",
       "  </thead>\n",
       "  <tbody>\n",
       "    <tr>\n",
       "      <th>0</th>\n",
       "      <td>1502928000000</td>\n",
       "      <td>4261.48</td>\n",
       "      <td>4485.39</td>\n",
       "      <td>4200.74</td>\n",
       "      <td>4285.08</td>\n",
       "      <td>795.150377</td>\n",
       "      <td>1503014399999</td>\n",
       "      <td>3.454770e+06</td>\n",
       "      <td>3427</td>\n",
       "      <td>616.248541</td>\n",
       "      <td>2.678216e+06</td>\n",
       "      <td>0</td>\n",
       "    </tr>\n",
       "    <tr>\n",
       "      <th>1</th>\n",
       "      <td>1503014400000</td>\n",
       "      <td>4285.08</td>\n",
       "      <td>4371.52</td>\n",
       "      <td>3938.77</td>\n",
       "      <td>4108.37</td>\n",
       "      <td>1199.888264</td>\n",
       "      <td>1503100799999</td>\n",
       "      <td>5.086958e+06</td>\n",
       "      <td>5233</td>\n",
       "      <td>972.868710</td>\n",
       "      <td>4.129123e+06</td>\n",
       "      <td>0</td>\n",
       "    </tr>\n",
       "    <tr>\n",
       "      <th>2</th>\n",
       "      <td>1503100800000</td>\n",
       "      <td>4108.37</td>\n",
       "      <td>4184.69</td>\n",
       "      <td>3850.00</td>\n",
       "      <td>4139.98</td>\n",
       "      <td>381.309763</td>\n",
       "      <td>1503187199999</td>\n",
       "      <td>1.549484e+06</td>\n",
       "      <td>2153</td>\n",
       "      <td>274.336042</td>\n",
       "      <td>1.118002e+06</td>\n",
       "      <td>0</td>\n",
       "    </tr>\n",
       "    <tr>\n",
       "      <th>3</th>\n",
       "      <td>1503187200000</td>\n",
       "      <td>4120.98</td>\n",
       "      <td>4211.08</td>\n",
       "      <td>4032.62</td>\n",
       "      <td>4086.29</td>\n",
       "      <td>467.083022</td>\n",
       "      <td>1503273599999</td>\n",
       "      <td>1.930364e+06</td>\n",
       "      <td>2321</td>\n",
       "      <td>376.795947</td>\n",
       "      <td>1.557401e+06</td>\n",
       "      <td>0</td>\n",
       "    </tr>\n",
       "    <tr>\n",
       "      <th>4</th>\n",
       "      <td>1503273600000</td>\n",
       "      <td>4069.13</td>\n",
       "      <td>4119.62</td>\n",
       "      <td>3911.79</td>\n",
       "      <td>4016.00</td>\n",
       "      <td>691.743060</td>\n",
       "      <td>1503359999999</td>\n",
       "      <td>2.797232e+06</td>\n",
       "      <td>3972</td>\n",
       "      <td>557.356107</td>\n",
       "      <td>2.255663e+06</td>\n",
       "      <td>0</td>\n",
       "    </tr>\n",
       "  </tbody>\n",
       "</table>\n",
       "</div>"
      ],
      "text/plain": [
       "       Open Time     Open     High      Low    Close       Volume  \\\n",
       "0  1502928000000  4261.48  4485.39  4200.74  4285.08   795.150377   \n",
       "1  1503014400000  4285.08  4371.52  3938.77  4108.37  1199.888264   \n",
       "2  1503100800000  4108.37  4184.69  3850.00  4139.98   381.309763   \n",
       "3  1503187200000  4120.98  4211.08  4032.62  4086.29   467.083022   \n",
       "4  1503273600000  4069.13  4119.62  3911.79  4016.00   691.743060   \n",
       "\n",
       "      Close Time           QAV   NAT       TBBAV         TBQAV  Ignore  \n",
       "0  1503014399999  3.454770e+06  3427  616.248541  2.678216e+06       0  \n",
       "1  1503100799999  5.086958e+06  5233  972.868710  4.129123e+06       0  \n",
       "2  1503187199999  1.549484e+06  2153  274.336042  1.118002e+06       0  \n",
       "3  1503273599999  1.930364e+06  2321  376.795947  1.557401e+06       0  \n",
       "4  1503359999999  2.797232e+06  3972  557.356107  2.255663e+06       0  "
      ]
     },
     "execution_count": 40,
     "metadata": {},
     "output_type": "execute_result"
    }
   ],
   "source": [
    "# read Bitcoin histroical data as dataframe with column names\n",
    "headers = [\"Open Time\", \"Open\", \"High\", \"Low\", \"Close\", \"Volume\", \"Close Time\", \"QAV\", \"NAT\", \"TBBAV\", \"TBQAV\", \"Ignore\"]\n",
    "data = pd.read_csv(\"BTCUSDT.csv\", names=headers)\n",
    "data.head()"
   ]
  },
  {
   "cell_type": "code",
   "execution_count": 41,
   "metadata": {
    "execution": {
     "iopub.execute_input": "2023-09-10T01:37:13.836534Z",
     "iopub.status.busy": "2023-09-10T01:37:13.836195Z",
     "iopub.status.idle": "2023-09-10T01:37:13.878331Z",
     "shell.execute_reply": "2023-09-10T01:37:13.877444Z",
     "shell.execute_reply.started": "2023-09-10T01:37:13.836508Z"
    }
   },
   "outputs": [],
   "source": [
    "# Turn \"Open Time\" and \"Close Time\" columns to Date\n",
    "open_date = []\n",
    "for i in data[\"Open Time\"]:\n",
    "    open_date.append(calculate_time(i))\n",
    "data[\"Open Time\"] = open_date\n",
    "\n",
    "close_date = []\n",
    "for i in data[\"Close Time\"]:\n",
    "    close_date.append(calculate_time(i))\n",
    "data[\"Close Time\"] = close_date"
   ]
  },
  {
   "cell_type": "code",
   "execution_count": 42,
   "metadata": {},
   "outputs": [
    {
     "data": {
      "text/html": [
       "<div>\n",
       "<style scoped>\n",
       "    .dataframe tbody tr th:only-of-type {\n",
       "        vertical-align: middle;\n",
       "    }\n",
       "\n",
       "    .dataframe tbody tr th {\n",
       "        vertical-align: top;\n",
       "    }\n",
       "\n",
       "    .dataframe thead th {\n",
       "        text-align: right;\n",
       "    }\n",
       "</style>\n",
       "<table border=\"1\" class=\"dataframe\">\n",
       "  <thead>\n",
       "    <tr style=\"text-align: right;\">\n",
       "      <th></th>\n",
       "      <th>Open Time</th>\n",
       "      <th>Open</th>\n",
       "      <th>High</th>\n",
       "      <th>Low</th>\n",
       "      <th>Close</th>\n",
       "      <th>Volume</th>\n",
       "      <th>Close Time</th>\n",
       "      <th>QAV</th>\n",
       "      <th>NAT</th>\n",
       "      <th>TBBAV</th>\n",
       "      <th>TBQAV</th>\n",
       "      <th>Ignore</th>\n",
       "    </tr>\n",
       "  </thead>\n",
       "  <tbody>\n",
       "    <tr>\n",
       "      <th>4067</th>\n",
       "      <td>2023-08-31 21:00:00</td>\n",
       "      <td>25940.77</td>\n",
       "      <td>26156.00</td>\n",
       "      <td>25333.75</td>\n",
       "      <td>25805.05</td>\n",
       "      <td>41032.15056</td>\n",
       "      <td>2023-09-01 20:59:59.999</td>\n",
       "      <td>1.059445e+09</td>\n",
       "      <td>881179</td>\n",
       "      <td>19960.99030</td>\n",
       "      <td>5.154299e+08</td>\n",
       "      <td>0</td>\n",
       "    </tr>\n",
       "    <tr>\n",
       "      <th>4068</th>\n",
       "      <td>2023-09-01 21:00:00</td>\n",
       "      <td>25805.04</td>\n",
       "      <td>25987.50</td>\n",
       "      <td>25752.47</td>\n",
       "      <td>25869.51</td>\n",
       "      <td>16250.77698</td>\n",
       "      <td>2023-09-02 20:59:59.999</td>\n",
       "      <td>4.198130e+08</td>\n",
       "      <td>567728</td>\n",
       "      <td>7634.91416</td>\n",
       "      <td>1.972344e+08</td>\n",
       "      <td>0</td>\n",
       "    </tr>\n",
       "    <tr>\n",
       "      <th>4069</th>\n",
       "      <td>2023-09-02 21:00:00</td>\n",
       "      <td>25869.52</td>\n",
       "      <td>26135.00</td>\n",
       "      <td>25800.00</td>\n",
       "      <td>25971.21</td>\n",
       "      <td>17474.47667</td>\n",
       "      <td>2023-09-03 20:59:59.999</td>\n",
       "      <td>4.531007e+08</td>\n",
       "      <td>496412</td>\n",
       "      <td>8583.16498</td>\n",
       "      <td>2.225815e+08</td>\n",
       "      <td>0</td>\n",
       "    </tr>\n",
       "    <tr>\n",
       "      <th>4070</th>\n",
       "      <td>2023-09-03 21:00:00</td>\n",
       "      <td>25971.21</td>\n",
       "      <td>26108.02</td>\n",
       "      <td>25631.21</td>\n",
       "      <td>25826.02</td>\n",
       "      <td>21777.59609</td>\n",
       "      <td>2023-09-04 20:59:59.999</td>\n",
       "      <td>5.635329e+08</td>\n",
       "      <td>596830</td>\n",
       "      <td>10177.36860</td>\n",
       "      <td>2.633659e+08</td>\n",
       "      <td>0</td>\n",
       "    </tr>\n",
       "    <tr>\n",
       "      <th>4071</th>\n",
       "      <td>2023-09-04 21:00:00</td>\n",
       "      <td>25826.03</td>\n",
       "      <td>25915.49</td>\n",
       "      <td>25562.62</td>\n",
       "      <td>25792.10</td>\n",
       "      <td>21323.39337</td>\n",
       "      <td>2023-09-05 20:59:59.999</td>\n",
       "      <td>5.488937e+08</td>\n",
       "      <td>566736</td>\n",
       "      <td>9926.65838</td>\n",
       "      <td>2.555370e+08</td>\n",
       "      <td>0</td>\n",
       "    </tr>\n",
       "    <tr>\n",
       "      <th>4072</th>\n",
       "      <td>2023-09-05 21:00:00</td>\n",
       "      <td>25792.11</td>\n",
       "      <td>26040.00</td>\n",
       "      <td>25372.51</td>\n",
       "      <td>25759.95</td>\n",
       "      <td>27262.52386</td>\n",
       "      <td>2023-09-06 20:59:59.999</td>\n",
       "      <td>7.007632e+08</td>\n",
       "      <td>636302</td>\n",
       "      <td>12736.70564</td>\n",
       "      <td>3.274164e+08</td>\n",
       "      <td>0</td>\n",
       "    </tr>\n",
       "    <tr>\n",
       "      <th>4073</th>\n",
       "      <td>2023-09-06 21:00:00</td>\n",
       "      <td>25759.95</td>\n",
       "      <td>26443.14</td>\n",
       "      <td>25615.38</td>\n",
       "      <td>26255.00</td>\n",
       "      <td>27687.49567</td>\n",
       "      <td>2023-09-07 20:59:59.999</td>\n",
       "      <td>7.189230e+08</td>\n",
       "      <td>631929</td>\n",
       "      <td>13506.19156</td>\n",
       "      <td>3.507413e+08</td>\n",
       "      <td>0</td>\n",
       "    </tr>\n",
       "    <tr>\n",
       "      <th>4074</th>\n",
       "      <td>2023-09-07 21:00:00</td>\n",
       "      <td>26255.00</td>\n",
       "      <td>26445.50</td>\n",
       "      <td>25647.26</td>\n",
       "      <td>25910.50</td>\n",
       "      <td>28999.76471</td>\n",
       "      <td>2023-09-08 20:59:59.999</td>\n",
       "      <td>7.541845e+08</td>\n",
       "      <td>646852</td>\n",
       "      <td>14238.89945</td>\n",
       "      <td>3.702368e+08</td>\n",
       "      <td>0</td>\n",
       "    </tr>\n",
       "    <tr>\n",
       "      <th>4075</th>\n",
       "      <td>2023-09-08 21:00:00</td>\n",
       "      <td>25910.50</td>\n",
       "      <td>25945.09</td>\n",
       "      <td>25796.64</td>\n",
       "      <td>25901.61</td>\n",
       "      <td>10980.62277</td>\n",
       "      <td>2023-09-09 20:59:59.999</td>\n",
       "      <td>2.841095e+08</td>\n",
       "      <td>359038</td>\n",
       "      <td>5212.44349</td>\n",
       "      <td>1.348634e+08</td>\n",
       "      <td>0</td>\n",
       "    </tr>\n",
       "    <tr>\n",
       "      <th>4076</th>\n",
       "      <td>2023-09-09 21:00:00</td>\n",
       "      <td>25901.60</td>\n",
       "      <td>25902.68</td>\n",
       "      <td>25750.35</td>\n",
       "      <td>25785.00</td>\n",
       "      <td>6938.58827</td>\n",
       "      <td>2023-09-10 20:59:59.999</td>\n",
       "      <td>1.792352e+08</td>\n",
       "      <td>231168</td>\n",
       "      <td>3049.05001</td>\n",
       "      <td>7.876124e+07</td>\n",
       "      <td>0</td>\n",
       "    </tr>\n",
       "  </tbody>\n",
       "</table>\n",
       "</div>"
      ],
      "text/plain": [
       "               Open Time      Open      High       Low     Close       Volume  \\\n",
       "4067 2023-08-31 21:00:00  25940.77  26156.00  25333.75  25805.05  41032.15056   \n",
       "4068 2023-09-01 21:00:00  25805.04  25987.50  25752.47  25869.51  16250.77698   \n",
       "4069 2023-09-02 21:00:00  25869.52  26135.00  25800.00  25971.21  17474.47667   \n",
       "4070 2023-09-03 21:00:00  25971.21  26108.02  25631.21  25826.02  21777.59609   \n",
       "4071 2023-09-04 21:00:00  25826.03  25915.49  25562.62  25792.10  21323.39337   \n",
       "4072 2023-09-05 21:00:00  25792.11  26040.00  25372.51  25759.95  27262.52386   \n",
       "4073 2023-09-06 21:00:00  25759.95  26443.14  25615.38  26255.00  27687.49567   \n",
       "4074 2023-09-07 21:00:00  26255.00  26445.50  25647.26  25910.50  28999.76471   \n",
       "4075 2023-09-08 21:00:00  25910.50  25945.09  25796.64  25901.61  10980.62277   \n",
       "4076 2023-09-09 21:00:00  25901.60  25902.68  25750.35  25785.00   6938.58827   \n",
       "\n",
       "                  Close Time           QAV     NAT        TBBAV         TBQAV  \\\n",
       "4067 2023-09-01 20:59:59.999  1.059445e+09  881179  19960.99030  5.154299e+08   \n",
       "4068 2023-09-02 20:59:59.999  4.198130e+08  567728   7634.91416  1.972344e+08   \n",
       "4069 2023-09-03 20:59:59.999  4.531007e+08  496412   8583.16498  2.225815e+08   \n",
       "4070 2023-09-04 20:59:59.999  5.635329e+08  596830  10177.36860  2.633659e+08   \n",
       "4071 2023-09-05 20:59:59.999  5.488937e+08  566736   9926.65838  2.555370e+08   \n",
       "4072 2023-09-06 20:59:59.999  7.007632e+08  636302  12736.70564  3.274164e+08   \n",
       "4073 2023-09-07 20:59:59.999  7.189230e+08  631929  13506.19156  3.507413e+08   \n",
       "4074 2023-09-08 20:59:59.999  7.541845e+08  646852  14238.89945  3.702368e+08   \n",
       "4075 2023-09-09 20:59:59.999  2.841095e+08  359038   5212.44349  1.348634e+08   \n",
       "4076 2023-09-10 20:59:59.999  1.792352e+08  231168   3049.05001  7.876124e+07   \n",
       "\n",
       "      Ignore  \n",
       "4067       0  \n",
       "4068       0  \n",
       "4069       0  \n",
       "4070       0  \n",
       "4071       0  \n",
       "4072       0  \n",
       "4073       0  \n",
       "4074       0  \n",
       "4075       0  \n",
       "4076       0  "
      ]
     },
     "execution_count": 42,
     "metadata": {},
     "output_type": "execute_result"
    }
   ],
   "source": [
    "data.tail(10)"
   ]
  },
  {
   "cell_type": "markdown",
   "metadata": {},
   "source": [
    "## Visualize the Bitcoin Data"
   ]
  },
  {
   "cell_type": "code",
   "execution_count": 43,
   "metadata": {
    "execution": {
     "iopub.execute_input": "2023-09-10T01:37:17.013471Z",
     "iopub.status.busy": "2023-09-10T01:37:17.012452Z",
     "iopub.status.idle": "2023-09-10T01:37:17.203586Z",
     "shell.execute_reply": "2023-09-10T01:37:17.202538Z",
     "shell.execute_reply.started": "2023-09-10T01:37:17.013421Z"
    }
   },
   "outputs": [
    {
     "data": {
      "image/png": "[encoded data removed]",
      "text/plain": [
       "<Figure size 1600x800 with 1 Axes>"
      ]
     },
     "metadata": {},
     "output_type": "display_data"
    }
   ],
   "source": [
    "# Visualize the close price history\n",
    "plt.figure(figsize=(16, 8))\n",
    "plt.title(\"Bitcoin Price History\")\n",
    "plt.plot(data[\"Close Time\"], data[\"Close\"])\n",
    "plt.xlabel(\"Time\", fontsize=14,)\n",
    "plt.ylabel(\"USDT\", fontsize=14)\n",
    "plt.show()"
   ]
  },
  {
   "cell_type": "code",
   "execution_count": 44,
   "metadata": {
    "execution": {
     "iopub.execute_input": "2023-09-10T01:48:38.453977Z",
     "iopub.status.busy": "2023-09-10T01:48:38.453622Z",
     "iopub.status.idle": "2023-09-10T01:48:38.460651Z",
     "shell.execute_reply": "2023-09-10T01:48:38.459789Z",
     "shell.execute_reply.started": "2023-09-10T01:48:38.453949Z"
    }
   },
   "outputs": [
    {
     "data": {
      "text/plain": [
       "(4077, 12)"
      ]
     },
     "execution_count": 44,
     "metadata": {},
     "output_type": "execute_result"
    }
   ],
   "source": [
    "data.shape"
   ]
  },
  {
   "cell_type": "markdown",
   "metadata": {},
   "source": [
    "## Create Train and Test Data"
   ]
  },
  {
   "cell_type": "code",
   "execution_count": 45,
   "metadata": {
    "execution": {
     "iopub.execute_input": "2023-09-10T01:37:25.455120Z",
     "iopub.status.busy": "2023-09-10T01:37:25.454726Z",
     "iopub.status.idle": "2023-09-10T01:37:25.464937Z",
     "shell.execute_reply": "2023-09-10T01:37:25.463817Z",
     "shell.execute_reply.started": "2023-09-10T01:37:25.455090Z"
    }
   },
   "outputs": [
    {
     "data": {
      "text/plain": [
       "3262"
      ]
     },
     "execution_count": 45,
     "metadata": {},
     "output_type": "execute_result"
    }
   ],
   "source": [
    "# Create new data with only the \"Close\" column\n",
    "close = data.filter([\"Close\"])\n",
    "# Convert the dataframe to a np array\n",
    "close_array = close.values\n",
    "# See the train data len\n",
    "train_close_len = math.ceil(len(close_array) * 0.8)\n",
    "train_close_len"
   ]
  },
  {
   "cell_type": "code",
   "execution_count": 46,
   "metadata": {
    "execution": {
     "iopub.execute_input": "2023-09-10T01:37:30.342419Z",
     "iopub.status.busy": "2023-09-10T01:37:30.342061Z",
     "iopub.status.idle": "2023-09-10T01:37:30.352195Z",
     "shell.execute_reply": "2023-09-10T01:37:30.350527Z",
     "shell.execute_reply.started": "2023-09-10T01:37:30.342390Z"
    }
   },
   "outputs": [
    {
     "data": {
      "text/plain": [
       "array([[0.01703628],\n",
       "       [0.01428964],\n",
       "       [0.01478096],\n",
       "       ...,\n",
       "       [0.35316454],\n",
       "       [0.35302636],\n",
       "       [0.35121387]])"
      ]
     },
     "execution_count": 46,
     "metadata": {},
     "output_type": "execute_result"
    }
   ],
   "source": [
    "# Normalize the data\n",
    "scaler = MinMaxScaler()\n",
    "scaled_data = scaler.fit_transform(close_array)\n",
    "scaled_data"
   ]
  },
  {
   "cell_type": "code",
   "execution_count": 47,
   "metadata": {
    "execution": {
     "iopub.execute_input": "2023-09-10T01:37:32.604228Z",
     "iopub.status.busy": "2023-09-10T01:37:32.603890Z",
     "iopub.status.idle": "2023-09-10T01:37:32.614269Z",
     "shell.execute_reply": "2023-09-10T01:37:32.613084Z",
     "shell.execute_reply.started": "2023-09-10T01:37:32.604203Z"
    }
   },
   "outputs": [
    {
     "name": "stdout",
     "output_type": "stream",
     "text": [
      "[array([0.01703628, 0.01428964, 0.01478096, 0.01394645, 0.01285392,\n",
      "       0.01322695, 0.01437731, 0.01751703, 0.01696789, 0.01785012,\n",
      "       0.01742377, 0.01861563, 0.02173655, 0.02123388, 0.02387234,\n",
      "       0.0255824 , 0.01994379, 0.02051796, 0.01416126, 0.01830134,\n",
      "       0.02223844, 0.02335506, 0.01700084, 0.01662796, 0.01463159,\n",
      "       0.01584552, 0.01514996, 0.01174553, 0.        , 0.00794227,\n",
      "       0.00817464, 0.00794211, 0.01314939, 0.01120696, 0.01105091,\n",
      "       0.00654322, 0.00632375, 0.00918572, 0.00732085, 0.01137343,\n",
      "       0.01077657, 0.01560506, 0.01531751, 0.01532047, 0.01848848,\n",
      "       0.01848802, 0.01851164, 0.01742362, 0.01584738, 0.01715052,\n",
      "       0.01834067, 0.01918   , 0.02255287, 0.02483695, 0.02477648,\n",
      "       0.02537288, 0.034832  , 0.0382512 , 0.04167086, 0.03918394])]\n",
      "[0.03996157098867663]\n"
     ]
    }
   ],
   "source": [
    "# Create the training dataset\n",
    "train_data = scaled_data[0 : train_close_len, :]\n",
    "# Create X_train and y_train\n",
    "X_train = []\n",
    "y_train = []\n",
    "for i in range(60, len(train_data)):\n",
    "    X_train.append(train_data[i - 60 : i, 0])\n",
    "    y_train.append(train_data[i, 0])\n",
    "    if i <= 60:\n",
    "        print(X_train)\n",
    "        print(y_train)"
   ]
  },
  {
   "cell_type": "code",
   "execution_count": 48,
   "metadata": {
    "execution": {
     "iopub.execute_input": "2023-09-10T01:38:41.502693Z",
     "iopub.status.busy": "2023-09-10T01:38:41.501298Z",
     "iopub.status.idle": "2023-09-10T01:38:41.508586Z",
     "shell.execute_reply": "2023-09-10T01:38:41.507983Z",
     "shell.execute_reply.started": "2023-09-10T01:38:41.502625Z"
    }
   },
   "outputs": [],
   "source": [
    "#  make X_train and y_train np array\n",
    "X_train, y_train = np.array(X_train), np.array(y_train)"
   ]
  },
  {
   "cell_type": "code",
   "execution_count": 49,
   "metadata": {
    "execution": {
     "iopub.execute_input": "2023-09-10T01:38:44.264828Z",
     "iopub.status.busy": "2023-09-10T01:38:44.264038Z",
     "iopub.status.idle": "2023-09-10T01:38:44.270913Z",
     "shell.execute_reply": "2023-09-10T01:38:44.270140Z",
     "shell.execute_reply.started": "2023-09-10T01:38:44.264796Z"
    }
   },
   "outputs": [
    {
     "data": {
      "text/plain": [
       "(3202, 60, 1)"
      ]
     },
     "execution_count": 49,
     "metadata": {},
     "output_type": "execute_result"
    }
   ],
   "source": [
    "# reshape the data\n",
    "X_train = np.reshape(X_train, (X_train.shape[0], X_train.shape[1], 1))\n",
    "X_train.shape"
   ]
  },
  {
   "cell_type": "code",
   "execution_count": 50,
   "metadata": {
    "execution": {
     "iopub.execute_input": "2023-09-10T01:40:04.245863Z",
     "iopub.status.busy": "2023-09-10T01:40:04.245427Z",
     "iopub.status.idle": "2023-09-10T01:40:04.252131Z",
     "shell.execute_reply": "2023-09-10T01:40:04.251171Z",
     "shell.execute_reply.started": "2023-09-10T01:40:04.245830Z"
    }
   },
   "outputs": [],
   "source": [
    "# create the testing dataset\n",
    "test_data = scaled_data[train_close_len - 60 : , :]\n",
    "# create X_test and y_test\n",
    "X_test = []\n",
    "y_test = data.iloc[train_close_len : , :]\n",
    "for i in range(60, len(test_data)):\n",
    "    X_test.append(test_data[i - 60 : i, 0])"
   ]
  },
  {
   "cell_type": "code",
   "execution_count": 51,
   "metadata": {
    "execution": {
     "iopub.execute_input": "2023-09-10T01:40:07.013705Z",
     "iopub.status.busy": "2023-09-10T01:40:07.012695Z",
     "iopub.status.idle": "2023-09-10T01:40:07.021316Z",
     "shell.execute_reply": "2023-09-10T01:40:07.019818Z",
     "shell.execute_reply.started": "2023-09-10T01:40:07.013631Z"
    }
   },
   "outputs": [],
   "source": [
    "# convert the test data to a np array and reshape the test data\n",
    "X_test = np.array(X_test)\n",
    "X_test = np.reshape(X_test, (X_test.shape[0], X_test.shape[1], 1))"
   ]
  },
  {
   "cell_type": "markdown",
   "metadata": {},
   "source": [
    "## Build a LSTM Model"
   ]
  },
  {
   "cell_type": "code",
   "execution_count": 52,
   "metadata": {
    "execution": {
     "iopub.execute_input": "2023-09-10T01:40:14.474656Z",
     "iopub.status.busy": "2023-09-10T01:40:14.474308Z",
     "iopub.status.idle": "2023-09-10T01:40:14.754294Z",
     "shell.execute_reply": "2023-09-10T01:40:14.753288Z",
     "shell.execute_reply.started": "2023-09-10T01:40:14.474630Z"
    }
   },
   "outputs": [],
   "source": [
    "# Build the LSTM Model\n",
    "model = Sequential()\n",
    "\n",
    "model.add(LSTM(units=512, return_sequences=True, activation='relu', input_shape=(X_train.shape[1], 1)))\n",
    "\n",
    "\n",
    "model.add(LSTM(units=256, activation='relu', return_sequences=False))\n",
    "\n",
    "\n",
    "model.add(Dense(units=1))"
   ]
  },
  {
   "cell_type": "code",
   "execution_count": 53,
   "metadata": {
    "execution": {
     "iopub.execute_input": "2023-09-10T01:40:15.985886Z",
     "iopub.status.busy": "2023-09-10T01:40:15.985501Z",
     "iopub.status.idle": "2023-09-10T01:40:15.996092Z",
     "shell.execute_reply": "2023-09-10T01:40:15.994958Z",
     "shell.execute_reply.started": "2023-09-10T01:40:15.985860Z"
    }
   },
   "outputs": [],
   "source": [
    "# compile the LSTM model\n",
    "model.compile(optimizer=\"Adam\", loss=\"mean_squared_error\", metrics=['mae'])"
   ]
  },
  {
   "cell_type": "code",
   "execution_count": null,
   "metadata": {
    "execution": {
     "iopub.execute_input": "2023-09-10T01:40:16.851312Z",
     "iopub.status.busy": "2023-09-10T01:40:16.850943Z",
     "iopub.status.idle": "2023-09-10T01:41:30.393891Z",
     "shell.execute_reply": "2023-09-10T01:41:30.392984Z",
     "shell.execute_reply.started": "2023-09-10T01:40:16.851273Z"
    }
   },
   "outputs": [
    {
     "name": "stdout",
     "output_type": "stream",
     "text": [
      "Epoch 1/3\n",
      "26/33 [======================>.......] - ETA: 4s - loss: 0.0146 - mae: 0.0601"
     ]
    }
   ],
   "source": [
    "# train the LSTM model\n",
    "model.fit(X_train, y_train,\n",
    "          epochs=3,\n",
    "          batch_size=100, \n",
    "          verbose=1)"
   ]
  },
  {
   "cell_type": "code",
   "execution_count": null,
   "metadata": {
    "execution": {
     "iopub.execute_input": "2023-09-10T01:41:30.396136Z",
     "iopub.status.busy": "2023-09-10T01:41:30.395840Z",
     "iopub.status.idle": "2023-09-10T01:41:33.726357Z",
     "shell.execute_reply": "2023-09-10T01:41:33.725358Z",
     "shell.execute_reply.started": "2023-09-10T01:41:30.396111Z"
    }
   },
   "outputs": [],
   "source": [
    "# predict with LSTM model\n",
    "predictions = model.predict(X_test)\n",
    "predictions = scaler.inverse_transform(predictions)"
   ]
  },
  {
   "cell_type": "code",
   "execution_count": null,
   "metadata": {
    "execution": {
     "iopub.execute_input": "2023-09-10T01:41:35.696440Z",
     "iopub.status.busy": "2023-09-10T01:41:35.696087Z",
     "iopub.status.idle": "2023-09-10T01:41:35.890578Z",
     "shell.execute_reply": "2023-09-10T01:41:35.889645Z",
     "shell.execute_reply.started": "2023-09-10T01:41:35.696412Z"
    }
   },
   "outputs": [],
   "source": [
    "# plot the data\n",
    "train = close[:train_close_len]\n",
    "valid = close[train_close_len:]\n",
    "valid[\"Predictions\"] = predictions\n",
    "#visualize the data\n",
    "plt.figure(figsize=(16, 8))\n",
    "plt.title(\"LSTM Model\")\n",
    "plt.xlabel(\"Time\", fontsize=14)\n",
    "plt.ylabel(\"USDT\", fontsize=14)\n",
    "plt.plot(data[\"Close Time\"][:train_close_len], train[\"Close\"])\n",
    "plt.plot(data[\"Close Time\"][train_close_len:], valid[[\"Close\", \"Predictions\"]])\n",
    "plt.legend([\"Train\", \"Validation\", \"Predictions\"], loc=\"lower right\")\n",
    "plt.show()"
   ]
  },
  {
   "cell_type": "code",
   "execution_count": null,
   "metadata": {
    "execution": {
     "iopub.execute_input": "2023-09-10T01:45:11.751039Z",
     "iopub.status.busy": "2023-09-10T01:45:11.750630Z",
     "iopub.status.idle": "2023-09-10T01:45:11.758684Z",
     "shell.execute_reply": "2023-09-10T01:45:11.757431Z",
     "shell.execute_reply.started": "2023-09-10T01:45:11.751008Z"
    }
   },
   "outputs": [],
   "source": [
    "print(predictions[0:10])\n",
    "print(y_test[\"Close\"][0:10])"
   ]
  },
  {
   "cell_type": "markdown",
   "metadata": {},
   "source": [
    "## Build a Optimized LSTM Model"
   ]
  },
  {
   "cell_type": "code",
   "execution_count": null,
   "metadata": {
    "execution": {
     "iopub.execute_input": "2023-09-10T01:36:28.833489Z",
     "iopub.status.busy": "2023-09-10T01:36:28.833250Z",
     "iopub.status.idle": "2023-09-10T01:36:29.214660Z",
     "shell.execute_reply": "2023-09-10T01:36:29.213702Z",
     "shell.execute_reply.started": "2023-09-10T01:36:28.833464Z"
    }
   },
   "outputs": [],
   "source": [
    "# change the parameters of first LSTM model and build the Optimized LSTM Model\n",
    "optimized_model = Sequential()\n",
    "\n",
    "optimized_model.add(LSTM(50, return_sequences=True, input_shape=(X_train.shape[1], 1)))\n",
    "\n",
    "optimized_model.add(LSTM(100, return_sequences=False))\n",
    "\n",
    "optimized_model.add(Dense(50))\n",
    "\n",
    "optimized_model.add(Dense(1))"
   ]
  },
  {
   "cell_type": "code",
   "execution_count": null,
   "metadata": {
    "execution": {
     "iopub.execute_input": "2023-09-10T01:36:29.216251Z",
     "iopub.status.busy": "2023-09-10T01:36:29.215889Z",
     "iopub.status.idle": "2023-09-10T01:36:29.228368Z",
     "shell.execute_reply": "2023-09-10T01:36:29.227205Z",
     "shell.execute_reply.started": "2023-09-10T01:36:29.216219Z"
    }
   },
   "outputs": [],
   "source": [
    "# compile the model\n",
    "optimized_model.compile(optimizer=\"Adam\", loss=\"mean_squared_error\", metrics=['mae'])"
   ]
  },
  {
   "cell_type": "code",
   "execution_count": null,
   "metadata": {
    "execution": {
     "iopub.execute_input": "2023-09-10T01:36:29.231629Z",
     "iopub.status.busy": "2023-09-10T01:36:29.230101Z",
     "iopub.status.idle": "2023-09-10T01:37:00.188513Z",
     "shell.execute_reply": "2023-09-10T01:37:00.187333Z",
     "shell.execute_reply.started": "2023-09-10T01:36:29.231590Z"
    }
   },
   "outputs": [],
   "source": [
    "# train the optimized model\n",
    "optimized_model.fit(X_train, y_train, \n",
    "          batch_size=10, \n",
    "          epochs=3, \n",
    "          verbose=1)"
   ]
  },
  {
   "cell_type": "code",
   "execution_count": null,
   "metadata": {
    "execution": {
     "iopub.execute_input": "2023-09-10T01:37:00.190599Z",
     "iopub.status.busy": "2023-09-10T01:37:00.190202Z",
     "iopub.status.idle": "2023-09-10T01:37:01.275444Z",
     "shell.execute_reply": "2023-09-10T01:37:01.274362Z",
     "shell.execute_reply.started": "2023-09-10T01:37:00.190561Z"
    }
   },
   "outputs": [],
   "source": [
    "# Predict with optimized LSTM model\n",
    "o_predictions = optimized_model.predict(X_test)\n",
    "o_predictions = scaler.inverse_transform(o_predictions)"
   ]
  },
  {
   "cell_type": "code",
   "execution_count": null,
   "metadata": {
    "execution": {
     "iopub.execute_input": "2023-09-10T01:37:01.277776Z",
     "iopub.status.busy": "2023-09-10T01:37:01.277115Z",
     "iopub.status.idle": "2023-09-10T01:37:01.495247Z",
     "shell.execute_reply": "2023-09-10T01:37:01.494591Z",
     "shell.execute_reply.started": "2023-09-10T01:37:01.277719Z"
    }
   },
   "outputs": [],
   "source": [
    "# plot the data\n",
    "train = close[:train_close_len]\n",
    "valid = close[train_close_len:]\n",
    "valid[\"Predictions\"] = o_predictions\n",
    "#visualize the data\n",
    "plt.figure(figsize=(16, 8))\n",
    "plt.title(\"Optimized LSTM Model\")\n",
    "plt.xlabel(\"Time\", fontsize=14)\n",
    "plt.ylabel(\"USDT\", fontsize=14)\n",
    "plt.plot(data[\"Close Time\"][:train_close_len], train[\"Close\"])\n",
    "plt.plot(data[\"Close Time\"][train_close_len:], valid[[\"Close\", \"Predictions\"]])\n",
    "plt.legend([\"Train\", \"Validation\", \"Predictions\"], loc=\"lower right\")\n",
    "plt.show()"
   ]
  }
 ],
 "metadata": {
  "kernelspec": {
   "display_name": "Python 3 (ipykernel)",
   "language": "python",
   "name": "python3"
  },
  "language_info": {
   "codemirror_mode": {
    "name": "ipython",
    "version": 3
   },
   "file_extension": ".py",
   "mimetype": "text/x-python",
   "name": "python",
   "nbconvert_exporter": "python",
   "pygments_lexer": "ipython3",
   "version": "3.11.4"
  }
 },
 "nbformat": 4,
 "nbformat_minor": 4
}
